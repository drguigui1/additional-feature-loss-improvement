{
  "nbformat": 4,
  "nbformat_minor": 0,
  "metadata": {
    "colab": {
      "name": "HTLogisticRegLossImprovement.ipynb",
      "provenance": []
    },
    "kernelspec": {
      "name": "python3",
      "display_name": "Python 3"
    },
    "language_info": {
      "name": "python"
    }
  },
  "cells": [
    {
      "cell_type": "markdown",
      "source": [
        "This notebook describes an implementation of:\n",
        "\n",
        "- The Logistic Regression with Hashing Trick to manage high cardinality categorical features\n",
        "\n",
        "- The loss improvement method describe in the Chapelle's paper (Link below): Estimate the loss improvement if you add a feature in the model without retraining the model\n",
        "\n",
        "https://people.csail.mit.edu/romer/papers/TISTRespPredAds.pdf"
      ],
      "metadata": {
        "id": "iDUE2oQxKP9T"
      }
    },
    {
      "cell_type": "code",
      "execution_count": null,
      "metadata": {
        "id": "q5EXPgQSKBE3"
      },
      "outputs": [],
      "source": [
        "# Install for hashing\n",
        "!pip install mmh3"
      ]
    },
    {
      "cell_type": "code",
      "source": [
        "from typing import List, Any\n",
        "import zipfile\n",
        "import glob\n",
        "import tqdm\n",
        "import sys\n",
        "\n",
        "import pandas as pd\n",
        "import numpy as np\n",
        "\n",
        "import mmh3\n",
        "\n",
        "import torch\n",
        "import torch.nn as nn\n",
        "from torch.utils.data import DataLoader, Dataset\n",
        "\n",
        "from sklearn.model_selection import train_test_split"
      ],
      "metadata": {
        "id": "ic_fR3_TK8G9"
      },
      "execution_count": 27,
      "outputs": []
    },
    {
      "cell_type": "code",
      "source": [
        "# Load the dataset\n",
        "drive_path = 'drive/MyDrive/HeartDisease/heart_2020_cleaned.csv.zip'\n",
        "local_path_dir = './heart_data/'"
      ],
      "metadata": {
        "id": "dz7_O6hWLAZQ"
      },
      "execution_count": 4,
      "outputs": []
    },
    {
      "cell_type": "code",
      "source": [
        "def extract_zip_drive_to_local(drive_path: str, local_path: str):\n",
        "    '''\n",
        "    Extract Zip dataset to local\n",
        "    '''\n",
        "    with zipfile.ZipFile(drive_path, 'r') as zip_ref:\n",
        "        zip_ref.extractall(local_path)\n",
        "\n",
        "extract_zip_drive_to_local(drive_path, local_path_dir)"
      ],
      "metadata": {
        "id": "4at_CWpmLCRv"
      },
      "execution_count": 5,
      "outputs": []
    },
    {
      "cell_type": "code",
      "source": [
        "# Load the dataset\n",
        "local_path_dataset = glob.glob(local_path_dir + '*.csv')[0]\n",
        "heart_df = pd.read_csv(local_path_dataset)\n",
        "heart_df"
      ],
      "metadata": {
        "colab": {
          "base_uri": "https://localhost:8080/",
          "height": 488
        },
        "id": "qNxHGt_6Lrps",
        "outputId": "e895a3e3-4bf8-4be7-ebbd-9c9503144377"
      },
      "execution_count": 6,
      "outputs": [
        {
          "output_type": "execute_result",
          "data": {
            "text/plain": [
              "       HeartDisease    BMI Smoking AlcoholDrinking Stroke  PhysicalHealth  \\\n",
              "0                No  16.60     Yes              No     No             3.0   \n",
              "1                No  20.34      No              No    Yes             0.0   \n",
              "2                No  26.58     Yes              No     No            20.0   \n",
              "3                No  24.21      No              No     No             0.0   \n",
              "4                No  23.71      No              No     No            28.0   \n",
              "...             ...    ...     ...             ...    ...             ...   \n",
              "319790          Yes  27.41     Yes              No     No             7.0   \n",
              "319791           No  29.84     Yes              No     No             0.0   \n",
              "319792           No  24.24      No              No     No             0.0   \n",
              "319793           No  32.81      No              No     No             0.0   \n",
              "319794           No  46.56      No              No     No             0.0   \n",
              "\n",
              "        MentalHealth DiffWalking     Sex  AgeCategory      Race Diabetic  \\\n",
              "0               30.0          No  Female        55-59     White      Yes   \n",
              "1                0.0          No  Female  80 or older     White       No   \n",
              "2               30.0          No    Male        65-69     White      Yes   \n",
              "3                0.0          No  Female        75-79     White       No   \n",
              "4                0.0         Yes  Female        40-44     White       No   \n",
              "...              ...         ...     ...          ...       ...      ...   \n",
              "319790           0.0         Yes    Male        60-64  Hispanic      Yes   \n",
              "319791           0.0          No    Male        35-39  Hispanic       No   \n",
              "319792           0.0          No  Female        45-49  Hispanic       No   \n",
              "319793           0.0          No  Female        25-29  Hispanic       No   \n",
              "319794           0.0          No  Female  80 or older  Hispanic       No   \n",
              "\n",
              "       PhysicalActivity  GenHealth  SleepTime Asthma KidneyDisease SkinCancer  \n",
              "0                   Yes  Very good        5.0    Yes            No        Yes  \n",
              "1                   Yes  Very good        7.0     No            No         No  \n",
              "2                   Yes       Fair        8.0    Yes            No         No  \n",
              "3                    No       Good        6.0     No            No        Yes  \n",
              "4                   Yes  Very good        8.0     No            No         No  \n",
              "...                 ...        ...        ...    ...           ...        ...  \n",
              "319790               No       Fair        6.0    Yes            No         No  \n",
              "319791              Yes  Very good        5.0    Yes            No         No  \n",
              "319792              Yes       Good        6.0     No            No         No  \n",
              "319793               No       Good       12.0     No            No         No  \n",
              "319794              Yes       Good        8.0     No            No         No  \n",
              "\n",
              "[319795 rows x 18 columns]"
            ],
            "text/html": [
              "\n",
              "  <div id=\"df-67f66ea7-87d2-461a-b12d-eaf63f698dde\">\n",
              "    <div class=\"colab-df-container\">\n",
              "      <div>\n",
              "<style scoped>\n",
              "    .dataframe tbody tr th:only-of-type {\n",
              "        vertical-align: middle;\n",
              "    }\n",
              "\n",
              "    .dataframe tbody tr th {\n",
              "        vertical-align: top;\n",
              "    }\n",
              "\n",
              "    .dataframe thead th {\n",
              "        text-align: right;\n",
              "    }\n",
              "</style>\n",
              "<table border=\"1\" class=\"dataframe\">\n",
              "  <thead>\n",
              "    <tr style=\"text-align: right;\">\n",
              "      <th></th>\n",
              "      <th>HeartDisease</th>\n",
              "      <th>BMI</th>\n",
              "      <th>Smoking</th>\n",
              "      <th>AlcoholDrinking</th>\n",
              "      <th>Stroke</th>\n",
              "      <th>PhysicalHealth</th>\n",
              "      <th>MentalHealth</th>\n",
              "      <th>DiffWalking</th>\n",
              "      <th>Sex</th>\n",
              "      <th>AgeCategory</th>\n",
              "      <th>Race</th>\n",
              "      <th>Diabetic</th>\n",
              "      <th>PhysicalActivity</th>\n",
              "      <th>GenHealth</th>\n",
              "      <th>SleepTime</th>\n",
              "      <th>Asthma</th>\n",
              "      <th>KidneyDisease</th>\n",
              "      <th>SkinCancer</th>\n",
              "    </tr>\n",
              "  </thead>\n",
              "  <tbody>\n",
              "    <tr>\n",
              "      <th>0</th>\n",
              "      <td>No</td>\n",
              "      <td>16.60</td>\n",
              "      <td>Yes</td>\n",
              "      <td>No</td>\n",
              "      <td>No</td>\n",
              "      <td>3.0</td>\n",
              "      <td>30.0</td>\n",
              "      <td>No</td>\n",
              "      <td>Female</td>\n",
              "      <td>55-59</td>\n",
              "      <td>White</td>\n",
              "      <td>Yes</td>\n",
              "      <td>Yes</td>\n",
              "      <td>Very good</td>\n",
              "      <td>5.0</td>\n",
              "      <td>Yes</td>\n",
              "      <td>No</td>\n",
              "      <td>Yes</td>\n",
              "    </tr>\n",
              "    <tr>\n",
              "      <th>1</th>\n",
              "      <td>No</td>\n",
              "      <td>20.34</td>\n",
              "      <td>No</td>\n",
              "      <td>No</td>\n",
              "      <td>Yes</td>\n",
              "      <td>0.0</td>\n",
              "      <td>0.0</td>\n",
              "      <td>No</td>\n",
              "      <td>Female</td>\n",
              "      <td>80 or older</td>\n",
              "      <td>White</td>\n",
              "      <td>No</td>\n",
              "      <td>Yes</td>\n",
              "      <td>Very good</td>\n",
              "      <td>7.0</td>\n",
              "      <td>No</td>\n",
              "      <td>No</td>\n",
              "      <td>No</td>\n",
              "    </tr>\n",
              "    <tr>\n",
              "      <th>2</th>\n",
              "      <td>No</td>\n",
              "      <td>26.58</td>\n",
              "      <td>Yes</td>\n",
              "      <td>No</td>\n",
              "      <td>No</td>\n",
              "      <td>20.0</td>\n",
              "      <td>30.0</td>\n",
              "      <td>No</td>\n",
              "      <td>Male</td>\n",
              "      <td>65-69</td>\n",
              "      <td>White</td>\n",
              "      <td>Yes</td>\n",
              "      <td>Yes</td>\n",
              "      <td>Fair</td>\n",
              "      <td>8.0</td>\n",
              "      <td>Yes</td>\n",
              "      <td>No</td>\n",
              "      <td>No</td>\n",
              "    </tr>\n",
              "    <tr>\n",
              "      <th>3</th>\n",
              "      <td>No</td>\n",
              "      <td>24.21</td>\n",
              "      <td>No</td>\n",
              "      <td>No</td>\n",
              "      <td>No</td>\n",
              "      <td>0.0</td>\n",
              "      <td>0.0</td>\n",
              "      <td>No</td>\n",
              "      <td>Female</td>\n",
              "      <td>75-79</td>\n",
              "      <td>White</td>\n",
              "      <td>No</td>\n",
              "      <td>No</td>\n",
              "      <td>Good</td>\n",
              "      <td>6.0</td>\n",
              "      <td>No</td>\n",
              "      <td>No</td>\n",
              "      <td>Yes</td>\n",
              "    </tr>\n",
              "    <tr>\n",
              "      <th>4</th>\n",
              "      <td>No</td>\n",
              "      <td>23.71</td>\n",
              "      <td>No</td>\n",
              "      <td>No</td>\n",
              "      <td>No</td>\n",
              "      <td>28.0</td>\n",
              "      <td>0.0</td>\n",
              "      <td>Yes</td>\n",
              "      <td>Female</td>\n",
              "      <td>40-44</td>\n",
              "      <td>White</td>\n",
              "      <td>No</td>\n",
              "      <td>Yes</td>\n",
              "      <td>Very good</td>\n",
              "      <td>8.0</td>\n",
              "      <td>No</td>\n",
              "      <td>No</td>\n",
              "      <td>No</td>\n",
              "    </tr>\n",
              "    <tr>\n",
              "      <th>...</th>\n",
              "      <td>...</td>\n",
              "      <td>...</td>\n",
              "      <td>...</td>\n",
              "      <td>...</td>\n",
              "      <td>...</td>\n",
              "      <td>...</td>\n",
              "      <td>...</td>\n",
              "      <td>...</td>\n",
              "      <td>...</td>\n",
              "      <td>...</td>\n",
              "      <td>...</td>\n",
              "      <td>...</td>\n",
              "      <td>...</td>\n",
              "      <td>...</td>\n",
              "      <td>...</td>\n",
              "      <td>...</td>\n",
              "      <td>...</td>\n",
              "      <td>...</td>\n",
              "    </tr>\n",
              "    <tr>\n",
              "      <th>319790</th>\n",
              "      <td>Yes</td>\n",
              "      <td>27.41</td>\n",
              "      <td>Yes</td>\n",
              "      <td>No</td>\n",
              "      <td>No</td>\n",
              "      <td>7.0</td>\n",
              "      <td>0.0</td>\n",
              "      <td>Yes</td>\n",
              "      <td>Male</td>\n",
              "      <td>60-64</td>\n",
              "      <td>Hispanic</td>\n",
              "      <td>Yes</td>\n",
              "      <td>No</td>\n",
              "      <td>Fair</td>\n",
              "      <td>6.0</td>\n",
              "      <td>Yes</td>\n",
              "      <td>No</td>\n",
              "      <td>No</td>\n",
              "    </tr>\n",
              "    <tr>\n",
              "      <th>319791</th>\n",
              "      <td>No</td>\n",
              "      <td>29.84</td>\n",
              "      <td>Yes</td>\n",
              "      <td>No</td>\n",
              "      <td>No</td>\n",
              "      <td>0.0</td>\n",
              "      <td>0.0</td>\n",
              "      <td>No</td>\n",
              "      <td>Male</td>\n",
              "      <td>35-39</td>\n",
              "      <td>Hispanic</td>\n",
              "      <td>No</td>\n",
              "      <td>Yes</td>\n",
              "      <td>Very good</td>\n",
              "      <td>5.0</td>\n",
              "      <td>Yes</td>\n",
              "      <td>No</td>\n",
              "      <td>No</td>\n",
              "    </tr>\n",
              "    <tr>\n",
              "      <th>319792</th>\n",
              "      <td>No</td>\n",
              "      <td>24.24</td>\n",
              "      <td>No</td>\n",
              "      <td>No</td>\n",
              "      <td>No</td>\n",
              "      <td>0.0</td>\n",
              "      <td>0.0</td>\n",
              "      <td>No</td>\n",
              "      <td>Female</td>\n",
              "      <td>45-49</td>\n",
              "      <td>Hispanic</td>\n",
              "      <td>No</td>\n",
              "      <td>Yes</td>\n",
              "      <td>Good</td>\n",
              "      <td>6.0</td>\n",
              "      <td>No</td>\n",
              "      <td>No</td>\n",
              "      <td>No</td>\n",
              "    </tr>\n",
              "    <tr>\n",
              "      <th>319793</th>\n",
              "      <td>No</td>\n",
              "      <td>32.81</td>\n",
              "      <td>No</td>\n",
              "      <td>No</td>\n",
              "      <td>No</td>\n",
              "      <td>0.0</td>\n",
              "      <td>0.0</td>\n",
              "      <td>No</td>\n",
              "      <td>Female</td>\n",
              "      <td>25-29</td>\n",
              "      <td>Hispanic</td>\n",
              "      <td>No</td>\n",
              "      <td>No</td>\n",
              "      <td>Good</td>\n",
              "      <td>12.0</td>\n",
              "      <td>No</td>\n",
              "      <td>No</td>\n",
              "      <td>No</td>\n",
              "    </tr>\n",
              "    <tr>\n",
              "      <th>319794</th>\n",
              "      <td>No</td>\n",
              "      <td>46.56</td>\n",
              "      <td>No</td>\n",
              "      <td>No</td>\n",
              "      <td>No</td>\n",
              "      <td>0.0</td>\n",
              "      <td>0.0</td>\n",
              "      <td>No</td>\n",
              "      <td>Female</td>\n",
              "      <td>80 or older</td>\n",
              "      <td>Hispanic</td>\n",
              "      <td>No</td>\n",
              "      <td>Yes</td>\n",
              "      <td>Good</td>\n",
              "      <td>8.0</td>\n",
              "      <td>No</td>\n",
              "      <td>No</td>\n",
              "      <td>No</td>\n",
              "    </tr>\n",
              "  </tbody>\n",
              "</table>\n",
              "<p>319795 rows × 18 columns</p>\n",
              "</div>\n",
              "      <button class=\"colab-df-convert\" onclick=\"convertToInteractive('df-67f66ea7-87d2-461a-b12d-eaf63f698dde')\"\n",
              "              title=\"Convert this dataframe to an interactive table.\"\n",
              "              style=\"display:none;\">\n",
              "        \n",
              "  <svg xmlns=\"http://www.w3.org/2000/svg\" height=\"24px\"viewBox=\"0 0 24 24\"\n",
              "       width=\"24px\">\n",
              "    <path d=\"M0 0h24v24H0V0z\" fill=\"none\"/>\n",
              "    <path d=\"M18.56 5.44l.94 2.06.94-2.06 2.06-.94-2.06-.94-.94-2.06-.94 2.06-2.06.94zm-11 1L8.5 8.5l.94-2.06 2.06-.94-2.06-.94L8.5 2.5l-.94 2.06-2.06.94zm10 10l.94 2.06.94-2.06 2.06-.94-2.06-.94-.94-2.06-.94 2.06-2.06.94z\"/><path d=\"M17.41 7.96l-1.37-1.37c-.4-.4-.92-.59-1.43-.59-.52 0-1.04.2-1.43.59L10.3 9.45l-7.72 7.72c-.78.78-.78 2.05 0 2.83L4 21.41c.39.39.9.59 1.41.59.51 0 1.02-.2 1.41-.59l7.78-7.78 2.81-2.81c.8-.78.8-2.07 0-2.86zM5.41 20L4 18.59l7.72-7.72 1.47 1.35L5.41 20z\"/>\n",
              "  </svg>\n",
              "      </button>\n",
              "      \n",
              "  <style>\n",
              "    .colab-df-container {\n",
              "      display:flex;\n",
              "      flex-wrap:wrap;\n",
              "      gap: 12px;\n",
              "    }\n",
              "\n",
              "    .colab-df-convert {\n",
              "      background-color: #E8F0FE;\n",
              "      border: none;\n",
              "      border-radius: 50%;\n",
              "      cursor: pointer;\n",
              "      display: none;\n",
              "      fill: #1967D2;\n",
              "      height: 32px;\n",
              "      padding: 0 0 0 0;\n",
              "      width: 32px;\n",
              "    }\n",
              "\n",
              "    .colab-df-convert:hover {\n",
              "      background-color: #E2EBFA;\n",
              "      box-shadow: 0px 1px 2px rgba(60, 64, 67, 0.3), 0px 1px 3px 1px rgba(60, 64, 67, 0.15);\n",
              "      fill: #174EA6;\n",
              "    }\n",
              "\n",
              "    [theme=dark] .colab-df-convert {\n",
              "      background-color: #3B4455;\n",
              "      fill: #D2E3FC;\n",
              "    }\n",
              "\n",
              "    [theme=dark] .colab-df-convert:hover {\n",
              "      background-color: #434B5C;\n",
              "      box-shadow: 0px 1px 3px 1px rgba(0, 0, 0, 0.15);\n",
              "      filter: drop-shadow(0px 1px 2px rgba(0, 0, 0, 0.3));\n",
              "      fill: #FFFFFF;\n",
              "    }\n",
              "  </style>\n",
              "\n",
              "      <script>\n",
              "        const buttonEl =\n",
              "          document.querySelector('#df-67f66ea7-87d2-461a-b12d-eaf63f698dde button.colab-df-convert');\n",
              "        buttonEl.style.display =\n",
              "          google.colab.kernel.accessAllowed ? 'block' : 'none';\n",
              "\n",
              "        async function convertToInteractive(key) {\n",
              "          const element = document.querySelector('#df-67f66ea7-87d2-461a-b12d-eaf63f698dde');\n",
              "          const dataTable =\n",
              "            await google.colab.kernel.invokeFunction('convertToInteractive',\n",
              "                                                     [key], {});\n",
              "          if (!dataTable) return;\n",
              "\n",
              "          const docLinkHtml = 'Like what you see? Visit the ' +\n",
              "            '<a target=\"_blank\" href=https://colab.research.google.com/notebooks/data_table.ipynb>data table notebook</a>'\n",
              "            + ' to learn more about interactive tables.';\n",
              "          element.innerHTML = '';\n",
              "          dataTable['output_type'] = 'display_data';\n",
              "          await google.colab.output.renderOutput(dataTable, element);\n",
              "          const docLink = document.createElement('div');\n",
              "          docLink.innerHTML = docLinkHtml;\n",
              "          element.appendChild(docLink);\n",
              "        }\n",
              "      </script>\n",
              "    </div>\n",
              "  </div>\n",
              "  "
            ]
          },
          "metadata": {},
          "execution_count": 6
        }
      ]
    },
    {
      "cell_type": "code",
      "source": [
        "# Features\n",
        "quantitative_features = [\n",
        "    'BMI'\n",
        "]\n",
        "categorical_features = [\n",
        "    'Smoking',\n",
        "    'AlcoholDrinking',\n",
        "    'Stroke',\n",
        "    'PhysicalHealth',\n",
        "    'MentalHealth',\n",
        "    'DiffWalking',\n",
        "    'Sex',\n",
        "    'AgeCategory',\n",
        "    'Race',\n",
        "    'Diabetic',\n",
        "    'PhysicalActivity',\n",
        "    'GenHealth',\n",
        "    'SleepTime',\n",
        "    'Asthma',\n",
        "    'KidneyDisease',\n",
        "    'SkinCancer'\n",
        "]"
      ],
      "metadata": {
        "id": "B61YqpDWLG5s"
      },
      "execution_count": 7,
      "outputs": []
    },
    {
      "cell_type": "code",
      "source": [
        "# Apply Transformations to labels\n",
        "label_transformer = lambda x: 1 if x == 'Yes' else 0\n",
        "heart_df['label'] = heart_df['HeartDisease'].apply(label_transformer)"
      ],
      "metadata": {
        "id": "Gk9r5QnbLPCZ"
      },
      "execution_count": 8,
      "outputs": []
    },
    {
      "cell_type": "code",
      "source": [
        "# Split the dataset between train and validation\n",
        "y = heart_df['label'].to_numpy()\n",
        "X_train, X_test, y_train, y_test = train_test_split(heart_df, y, test_size=0.2, random_state=42)\n",
        "X_train.shape, X_test.shape, y_train.shape, y_test.shape"
      ],
      "metadata": {
        "colab": {
          "base_uri": "https://localhost:8080/"
        },
        "id": "OUjV-lZBL5-L",
        "outputId": "673f4e2e-9e00-46ae-da08-d0cef3d37557"
      },
      "execution_count": 9,
      "outputs": [
        {
          "output_type": "execute_result",
          "data": {
            "text/plain": [
              "((255836, 19), (63959, 19), (255836,), (63959,))"
            ]
          },
          "metadata": {},
          "execution_count": 9
        }
      ]
    },
    {
      "cell_type": "code",
      "source": [
        "X_train"
      ],
      "metadata": {
        "colab": {
          "base_uri": "https://localhost:8080/",
          "height": 522
        },
        "id": "Vnl4gfQ0MI0C",
        "outputId": "018b04f4-dac1-4e88-f288-359c824a8967"
      },
      "execution_count": 10,
      "outputs": [
        {
          "output_type": "execute_result",
          "data": {
            "text/plain": [
              "       HeartDisease    BMI Smoking AlcoholDrinking Stroke  PhysicalHealth  \\\n",
              "95877            No  23.33     Yes              No     No             0.0   \n",
              "228939          Yes  27.46     Yes              No    Yes            30.0   \n",
              "260256           No  32.69      No              No     No             2.0   \n",
              "84785            No  31.32      No              No     No             0.0   \n",
              "83845           Yes  24.63     Yes              No     No             2.0   \n",
              "...             ...    ...     ...             ...    ...             ...   \n",
              "119879           No  29.65      No              No     No             0.0   \n",
              "259178           No  42.60     Yes              No     No             0.0   \n",
              "131932           No  31.19     Yes              No     No            12.0   \n",
              "146867           No  22.24      No              No     No             7.0   \n",
              "121958           No  36.39     Yes              No     No             0.0   \n",
              "\n",
              "        MentalHealth DiffWalking     Sex  AgeCategory      Race  \\\n",
              "95877            0.0          No    Male        75-79     White   \n",
              "228939           0.0          No    Male        55-59     White   \n",
              "260256           2.0          No    Male        50-54  Hispanic   \n",
              "84785            0.0          No  Female        25-29     White   \n",
              "83845           10.0          No    Male  80 or older     White   \n",
              "...              ...         ...     ...          ...       ...   \n",
              "119879           0.0          No    Male        60-64     White   \n",
              "259178           5.0          No    Male        35-39     White   \n",
              "131932           6.0          No    Male        65-69     White   \n",
              "146867           5.0          No  Female        18-24     White   \n",
              "121958           0.0          No  Female        30-34     Black   \n",
              "\n",
              "                       Diabetic PhysicalActivity  GenHealth  SleepTime Asthma  \\\n",
              "95877                        No              Yes  Very good        7.0     No   \n",
              "228939                       No              Yes       Good        6.0     No   \n",
              "260256                       No               No  Very good        8.0     No   \n",
              "84785                        No              Yes  Excellent        8.0     No   \n",
              "83845                       Yes              Yes       Good        7.0     No   \n",
              "...                         ...              ...        ...        ...    ...   \n",
              "119879                       No               No       Good        8.0     No   \n",
              "259178                       No              Yes       Good        6.0     No   \n",
              "131932  No, borderline diabetes               No  Very good        8.0     No   \n",
              "146867                       No              Yes  Excellent        8.0     No   \n",
              "121958                       No              Yes       Good        8.0    Yes   \n",
              "\n",
              "       KidneyDisease SkinCancer  label  \n",
              "95877             No         No      0  \n",
              "228939            No         No      1  \n",
              "260256            No         No      0  \n",
              "84785             No         No      0  \n",
              "83845             No         No      1  \n",
              "...              ...        ...    ...  \n",
              "119879            No         No      0  \n",
              "259178            No         No      0  \n",
              "131932            No         No      0  \n",
              "146867            No         No      0  \n",
              "121958            No         No      0  \n",
              "\n",
              "[255836 rows x 19 columns]"
            ],
            "text/html": [
              "\n",
              "  <div id=\"df-cbfe3385-b110-4750-9f51-1d20f614f8f5\">\n",
              "    <div class=\"colab-df-container\">\n",
              "      <div>\n",
              "<style scoped>\n",
              "    .dataframe tbody tr th:only-of-type {\n",
              "        vertical-align: middle;\n",
              "    }\n",
              "\n",
              "    .dataframe tbody tr th {\n",
              "        vertical-align: top;\n",
              "    }\n",
              "\n",
              "    .dataframe thead th {\n",
              "        text-align: right;\n",
              "    }\n",
              "</style>\n",
              "<table border=\"1\" class=\"dataframe\">\n",
              "  <thead>\n",
              "    <tr style=\"text-align: right;\">\n",
              "      <th></th>\n",
              "      <th>HeartDisease</th>\n",
              "      <th>BMI</th>\n",
              "      <th>Smoking</th>\n",
              "      <th>AlcoholDrinking</th>\n",
              "      <th>Stroke</th>\n",
              "      <th>PhysicalHealth</th>\n",
              "      <th>MentalHealth</th>\n",
              "      <th>DiffWalking</th>\n",
              "      <th>Sex</th>\n",
              "      <th>AgeCategory</th>\n",
              "      <th>Race</th>\n",
              "      <th>Diabetic</th>\n",
              "      <th>PhysicalActivity</th>\n",
              "      <th>GenHealth</th>\n",
              "      <th>SleepTime</th>\n",
              "      <th>Asthma</th>\n",
              "      <th>KidneyDisease</th>\n",
              "      <th>SkinCancer</th>\n",
              "      <th>label</th>\n",
              "    </tr>\n",
              "  </thead>\n",
              "  <tbody>\n",
              "    <tr>\n",
              "      <th>95877</th>\n",
              "      <td>No</td>\n",
              "      <td>23.33</td>\n",
              "      <td>Yes</td>\n",
              "      <td>No</td>\n",
              "      <td>No</td>\n",
              "      <td>0.0</td>\n",
              "      <td>0.0</td>\n",
              "      <td>No</td>\n",
              "      <td>Male</td>\n",
              "      <td>75-79</td>\n",
              "      <td>White</td>\n",
              "      <td>No</td>\n",
              "      <td>Yes</td>\n",
              "      <td>Very good</td>\n",
              "      <td>7.0</td>\n",
              "      <td>No</td>\n",
              "      <td>No</td>\n",
              "      <td>No</td>\n",
              "      <td>0</td>\n",
              "    </tr>\n",
              "    <tr>\n",
              "      <th>228939</th>\n",
              "      <td>Yes</td>\n",
              "      <td>27.46</td>\n",
              "      <td>Yes</td>\n",
              "      <td>No</td>\n",
              "      <td>Yes</td>\n",
              "      <td>30.0</td>\n",
              "      <td>0.0</td>\n",
              "      <td>No</td>\n",
              "      <td>Male</td>\n",
              "      <td>55-59</td>\n",
              "      <td>White</td>\n",
              "      <td>No</td>\n",
              "      <td>Yes</td>\n",
              "      <td>Good</td>\n",
              "      <td>6.0</td>\n",
              "      <td>No</td>\n",
              "      <td>No</td>\n",
              "      <td>No</td>\n",
              "      <td>1</td>\n",
              "    </tr>\n",
              "    <tr>\n",
              "      <th>260256</th>\n",
              "      <td>No</td>\n",
              "      <td>32.69</td>\n",
              "      <td>No</td>\n",
              "      <td>No</td>\n",
              "      <td>No</td>\n",
              "      <td>2.0</td>\n",
              "      <td>2.0</td>\n",
              "      <td>No</td>\n",
              "      <td>Male</td>\n",
              "      <td>50-54</td>\n",
              "      <td>Hispanic</td>\n",
              "      <td>No</td>\n",
              "      <td>No</td>\n",
              "      <td>Very good</td>\n",
              "      <td>8.0</td>\n",
              "      <td>No</td>\n",
              "      <td>No</td>\n",
              "      <td>No</td>\n",
              "      <td>0</td>\n",
              "    </tr>\n",
              "    <tr>\n",
              "      <th>84785</th>\n",
              "      <td>No</td>\n",
              "      <td>31.32</td>\n",
              "      <td>No</td>\n",
              "      <td>No</td>\n",
              "      <td>No</td>\n",
              "      <td>0.0</td>\n",
              "      <td>0.0</td>\n",
              "      <td>No</td>\n",
              "      <td>Female</td>\n",
              "      <td>25-29</td>\n",
              "      <td>White</td>\n",
              "      <td>No</td>\n",
              "      <td>Yes</td>\n",
              "      <td>Excellent</td>\n",
              "      <td>8.0</td>\n",
              "      <td>No</td>\n",
              "      <td>No</td>\n",
              "      <td>No</td>\n",
              "      <td>0</td>\n",
              "    </tr>\n",
              "    <tr>\n",
              "      <th>83845</th>\n",
              "      <td>Yes</td>\n",
              "      <td>24.63</td>\n",
              "      <td>Yes</td>\n",
              "      <td>No</td>\n",
              "      <td>No</td>\n",
              "      <td>2.0</td>\n",
              "      <td>10.0</td>\n",
              "      <td>No</td>\n",
              "      <td>Male</td>\n",
              "      <td>80 or older</td>\n",
              "      <td>White</td>\n",
              "      <td>Yes</td>\n",
              "      <td>Yes</td>\n",
              "      <td>Good</td>\n",
              "      <td>7.0</td>\n",
              "      <td>No</td>\n",
              "      <td>No</td>\n",
              "      <td>No</td>\n",
              "      <td>1</td>\n",
              "    </tr>\n",
              "    <tr>\n",
              "      <th>...</th>\n",
              "      <td>...</td>\n",
              "      <td>...</td>\n",
              "      <td>...</td>\n",
              "      <td>...</td>\n",
              "      <td>...</td>\n",
              "      <td>...</td>\n",
              "      <td>...</td>\n",
              "      <td>...</td>\n",
              "      <td>...</td>\n",
              "      <td>...</td>\n",
              "      <td>...</td>\n",
              "      <td>...</td>\n",
              "      <td>...</td>\n",
              "      <td>...</td>\n",
              "      <td>...</td>\n",
              "      <td>...</td>\n",
              "      <td>...</td>\n",
              "      <td>...</td>\n",
              "      <td>...</td>\n",
              "    </tr>\n",
              "    <tr>\n",
              "      <th>119879</th>\n",
              "      <td>No</td>\n",
              "      <td>29.65</td>\n",
              "      <td>No</td>\n",
              "      <td>No</td>\n",
              "      <td>No</td>\n",
              "      <td>0.0</td>\n",
              "      <td>0.0</td>\n",
              "      <td>No</td>\n",
              "      <td>Male</td>\n",
              "      <td>60-64</td>\n",
              "      <td>White</td>\n",
              "      <td>No</td>\n",
              "      <td>No</td>\n",
              "      <td>Good</td>\n",
              "      <td>8.0</td>\n",
              "      <td>No</td>\n",
              "      <td>No</td>\n",
              "      <td>No</td>\n",
              "      <td>0</td>\n",
              "    </tr>\n",
              "    <tr>\n",
              "      <th>259178</th>\n",
              "      <td>No</td>\n",
              "      <td>42.60</td>\n",
              "      <td>Yes</td>\n",
              "      <td>No</td>\n",
              "      <td>No</td>\n",
              "      <td>0.0</td>\n",
              "      <td>5.0</td>\n",
              "      <td>No</td>\n",
              "      <td>Male</td>\n",
              "      <td>35-39</td>\n",
              "      <td>White</td>\n",
              "      <td>No</td>\n",
              "      <td>Yes</td>\n",
              "      <td>Good</td>\n",
              "      <td>6.0</td>\n",
              "      <td>No</td>\n",
              "      <td>No</td>\n",
              "      <td>No</td>\n",
              "      <td>0</td>\n",
              "    </tr>\n",
              "    <tr>\n",
              "      <th>131932</th>\n",
              "      <td>No</td>\n",
              "      <td>31.19</td>\n",
              "      <td>Yes</td>\n",
              "      <td>No</td>\n",
              "      <td>No</td>\n",
              "      <td>12.0</td>\n",
              "      <td>6.0</td>\n",
              "      <td>No</td>\n",
              "      <td>Male</td>\n",
              "      <td>65-69</td>\n",
              "      <td>White</td>\n",
              "      <td>No, borderline diabetes</td>\n",
              "      <td>No</td>\n",
              "      <td>Very good</td>\n",
              "      <td>8.0</td>\n",
              "      <td>No</td>\n",
              "      <td>No</td>\n",
              "      <td>No</td>\n",
              "      <td>0</td>\n",
              "    </tr>\n",
              "    <tr>\n",
              "      <th>146867</th>\n",
              "      <td>No</td>\n",
              "      <td>22.24</td>\n",
              "      <td>No</td>\n",
              "      <td>No</td>\n",
              "      <td>No</td>\n",
              "      <td>7.0</td>\n",
              "      <td>5.0</td>\n",
              "      <td>No</td>\n",
              "      <td>Female</td>\n",
              "      <td>18-24</td>\n",
              "      <td>White</td>\n",
              "      <td>No</td>\n",
              "      <td>Yes</td>\n",
              "      <td>Excellent</td>\n",
              "      <td>8.0</td>\n",
              "      <td>No</td>\n",
              "      <td>No</td>\n",
              "      <td>No</td>\n",
              "      <td>0</td>\n",
              "    </tr>\n",
              "    <tr>\n",
              "      <th>121958</th>\n",
              "      <td>No</td>\n",
              "      <td>36.39</td>\n",
              "      <td>Yes</td>\n",
              "      <td>No</td>\n",
              "      <td>No</td>\n",
              "      <td>0.0</td>\n",
              "      <td>0.0</td>\n",
              "      <td>No</td>\n",
              "      <td>Female</td>\n",
              "      <td>30-34</td>\n",
              "      <td>Black</td>\n",
              "      <td>No</td>\n",
              "      <td>Yes</td>\n",
              "      <td>Good</td>\n",
              "      <td>8.0</td>\n",
              "      <td>Yes</td>\n",
              "      <td>No</td>\n",
              "      <td>No</td>\n",
              "      <td>0</td>\n",
              "    </tr>\n",
              "  </tbody>\n",
              "</table>\n",
              "<p>255836 rows × 19 columns</p>\n",
              "</div>\n",
              "      <button class=\"colab-df-convert\" onclick=\"convertToInteractive('df-cbfe3385-b110-4750-9f51-1d20f614f8f5')\"\n",
              "              title=\"Convert this dataframe to an interactive table.\"\n",
              "              style=\"display:none;\">\n",
              "        \n",
              "  <svg xmlns=\"http://www.w3.org/2000/svg\" height=\"24px\"viewBox=\"0 0 24 24\"\n",
              "       width=\"24px\">\n",
              "    <path d=\"M0 0h24v24H0V0z\" fill=\"none\"/>\n",
              "    <path d=\"M18.56 5.44l.94 2.06.94-2.06 2.06-.94-2.06-.94-.94-2.06-.94 2.06-2.06.94zm-11 1L8.5 8.5l.94-2.06 2.06-.94-2.06-.94L8.5 2.5l-.94 2.06-2.06.94zm10 10l.94 2.06.94-2.06 2.06-.94-2.06-.94-.94-2.06-.94 2.06-2.06.94z\"/><path d=\"M17.41 7.96l-1.37-1.37c-.4-.4-.92-.59-1.43-.59-.52 0-1.04.2-1.43.59L10.3 9.45l-7.72 7.72c-.78.78-.78 2.05 0 2.83L4 21.41c.39.39.9.59 1.41.59.51 0 1.02-.2 1.41-.59l7.78-7.78 2.81-2.81c.8-.78.8-2.07 0-2.86zM5.41 20L4 18.59l7.72-7.72 1.47 1.35L5.41 20z\"/>\n",
              "  </svg>\n",
              "      </button>\n",
              "      \n",
              "  <style>\n",
              "    .colab-df-container {\n",
              "      display:flex;\n",
              "      flex-wrap:wrap;\n",
              "      gap: 12px;\n",
              "    }\n",
              "\n",
              "    .colab-df-convert {\n",
              "      background-color: #E8F0FE;\n",
              "      border: none;\n",
              "      border-radius: 50%;\n",
              "      cursor: pointer;\n",
              "      display: none;\n",
              "      fill: #1967D2;\n",
              "      height: 32px;\n",
              "      padding: 0 0 0 0;\n",
              "      width: 32px;\n",
              "    }\n",
              "\n",
              "    .colab-df-convert:hover {\n",
              "      background-color: #E2EBFA;\n",
              "      box-shadow: 0px 1px 2px rgba(60, 64, 67, 0.3), 0px 1px 3px 1px rgba(60, 64, 67, 0.15);\n",
              "      fill: #174EA6;\n",
              "    }\n",
              "\n",
              "    [theme=dark] .colab-df-convert {\n",
              "      background-color: #3B4455;\n",
              "      fill: #D2E3FC;\n",
              "    }\n",
              "\n",
              "    [theme=dark] .colab-df-convert:hover {\n",
              "      background-color: #434B5C;\n",
              "      box-shadow: 0px 1px 3px 1px rgba(0, 0, 0, 0.15);\n",
              "      filter: drop-shadow(0px 1px 2px rgba(0, 0, 0, 0.3));\n",
              "      fill: #FFFFFF;\n",
              "    }\n",
              "  </style>\n",
              "\n",
              "      <script>\n",
              "        const buttonEl =\n",
              "          document.querySelector('#df-cbfe3385-b110-4750-9f51-1d20f614f8f5 button.colab-df-convert');\n",
              "        buttonEl.style.display =\n",
              "          google.colab.kernel.accessAllowed ? 'block' : 'none';\n",
              "\n",
              "        async function convertToInteractive(key) {\n",
              "          const element = document.querySelector('#df-cbfe3385-b110-4750-9f51-1d20f614f8f5');\n",
              "          const dataTable =\n",
              "            await google.colab.kernel.invokeFunction('convertToInteractive',\n",
              "                                                     [key], {});\n",
              "          if (!dataTable) return;\n",
              "\n",
              "          const docLinkHtml = 'Like what you see? Visit the ' +\n",
              "            '<a target=\"_blank\" href=https://colab.research.google.com/notebooks/data_table.ipynb>data table notebook</a>'\n",
              "            + ' to learn more about interactive tables.';\n",
              "          element.innerHTML = '';\n",
              "          dataTable['output_type'] = 'display_data';\n",
              "          await google.colab.output.renderOutput(dataTable, element);\n",
              "          const docLink = document.createElement('div');\n",
              "          docLink.innerHTML = docLinkHtml;\n",
              "          element.appendChild(docLink);\n",
              "        }\n",
              "      </script>\n",
              "    </div>\n",
              "  </div>\n",
              "  "
            ]
          },
          "metadata": {},
          "execution_count": 10
        }
      ]
    },
    {
      "cell_type": "code",
      "source": [
        "def apply_hash(\n",
        "    col_name: str,\n",
        "    value: str,\n",
        "    table_size: int\n",
        ") -> int:\n",
        "    '''\n",
        "    Apply hash function to the modality of a specific feature\n",
        "    Map the category into the input vector\n",
        "    '''\n",
        "    inpt = col_name + '_' + value\n",
        "    return mmh3.hash(inpt) % table_size"
      ],
      "metadata": {
        "id": "zEMP9dCOMLUi"
      },
      "execution_count": 11,
      "outputs": []
    },
    {
      "cell_type": "markdown",
      "source": [
        "Apply the hashing"
      ],
      "metadata": {
        "id": "ivpkX8YGMqbq"
      }
    },
    {
      "cell_type": "code",
      "source": [
        "# Hashing Trick\n",
        "class Hasher:\n",
        "    def __init__(self, hashing_size: int):\n",
        "        self.hashing_size = hashing_size\n",
        "\n",
        "    def hash(\n",
        "        self,\n",
        "        columns: List[str],\n",
        "        input: List[Any]\n",
        "    ) -> np.array:\n",
        "        '''\n",
        "        Hash a single sample from the data\n",
        "        To hash the sample we need the columns\n",
        "        '''\n",
        "        d = len(input)\n",
        "        res = torch.zeros(self.hashing_size)\n",
        "        for i in range(d):\n",
        "            idx = apply_hash(columns[i], str(input[i]), self.hashing_size)\n",
        "            res[idx] = 1\n",
        "        return res"
      ],
      "metadata": {
        "id": "AGWFjFJoMdLg"
      },
      "execution_count": 12,
      "outputs": []
    },
    {
      "cell_type": "code",
      "source": [
        "# TEST cell\n",
        "\n",
        "# Build the hasher\n",
        "hasher = Hasher(hashing_size=2461)\n",
        "\n",
        "# Get only the categorical features in the input\n",
        "heart_df_cat = X_train[categorical_features]\n",
        "\n",
        "# Get features columns (usefull for the hashing)\n",
        "columns = heart_df_cat.columns.to_list()\n",
        "\n",
        "for i in range(50):\n",
        "    res = hasher.hash(columns, heart_df_cat.iloc[i].to_list())\n",
        "    print(res.sum())\n",
        "print()\n",
        "len(columns)"
      ],
      "metadata": {
        "colab": {
          "base_uri": "https://localhost:8080/"
        },
        "id": "TlDkjbABNeUT",
        "outputId": "37c57e54-8993-47e3-82ee-f635a34879d4"
      },
      "execution_count": 13,
      "outputs": [
        {
          "output_type": "stream",
          "name": "stdout",
          "text": [
            "tensor(16.)\n",
            "tensor(16.)\n",
            "tensor(16.)\n",
            "tensor(16.)\n",
            "tensor(16.)\n",
            "tensor(16.)\n",
            "tensor(16.)\n",
            "tensor(16.)\n",
            "tensor(16.)\n",
            "tensor(16.)\n",
            "tensor(16.)\n",
            "tensor(16.)\n",
            "tensor(16.)\n",
            "tensor(16.)\n",
            "tensor(16.)\n",
            "tensor(16.)\n",
            "tensor(16.)\n",
            "tensor(16.)\n",
            "tensor(16.)\n",
            "tensor(16.)\n",
            "tensor(16.)\n",
            "tensor(16.)\n",
            "tensor(16.)\n",
            "tensor(16.)\n",
            "tensor(16.)\n",
            "tensor(16.)\n",
            "tensor(16.)\n",
            "tensor(15.)\n",
            "tensor(16.)\n",
            "tensor(16.)\n",
            "tensor(16.)\n",
            "tensor(16.)\n",
            "tensor(16.)\n",
            "tensor(16.)\n",
            "tensor(16.)\n",
            "tensor(16.)\n",
            "tensor(16.)\n",
            "tensor(16.)\n",
            "tensor(16.)\n",
            "tensor(16.)\n",
            "tensor(16.)\n",
            "tensor(16.)\n",
            "tensor(16.)\n",
            "tensor(16.)\n",
            "tensor(16.)\n",
            "tensor(16.)\n",
            "tensor(16.)\n",
            "tensor(16.)\n",
            "tensor(16.)\n",
            "tensor(16.)\n",
            "\n"
          ]
        },
        {
          "output_type": "execute_result",
          "data": {
            "text/plain": [
              "16"
            ]
          },
          "metadata": {},
          "execution_count": 13
        }
      ]
    },
    {
      "cell_type": "code",
      "source": [
        "# Create torch dataloader\n",
        "class HealthDataset(Dataset):\n",
        "    def __init__(\n",
        "        self,\n",
        "        df: pd.core.frame.DataFrame,\n",
        "        labels: np.array,\n",
        "        col_features: List[str],\n",
        "        hasher: Hasher,\n",
        "    ):\n",
        "        self.df = df[col_features]\n",
        "        self.labels = labels\n",
        "        self.columns = col_features\n",
        "        self.hasher = hasher\n",
        "\n",
        "    def __len__(self):\n",
        "        return len(self.df)\n",
        "\n",
        "    def __getitem__(self, idx):\n",
        "        row = self.df.iloc[idx].to_list()\n",
        "        label = self.labels[idx]\n",
        "        return self.hasher.hash(self.columns, row), float(label)"
      ],
      "metadata": {
        "id": "YI0F7Jx5NLmr"
      },
      "execution_count": 14,
      "outputs": []
    },
    {
      "cell_type": "code",
      "source": [
        "# TEST cell\n",
        "train_dataset = HealthDataset(X_train, y_train, categorical_features, hasher)\n",
        "train_dataset[0]"
      ],
      "metadata": {
        "colab": {
          "base_uri": "https://localhost:8080/"
        },
        "id": "M8n0IC3MRRYn",
        "outputId": "941aa1a4-5104-4c7f-bae1-0cd2f05053b9"
      },
      "execution_count": 15,
      "outputs": [
        {
          "output_type": "execute_result",
          "data": {
            "text/plain": [
              "(tensor([0., 0., 0.,  ..., 0., 0., 0.]), 0.0)"
            ]
          },
          "metadata": {},
          "execution_count": 15
        }
      ]
    },
    {
      "cell_type": "code",
      "source": [
        "# Unsigmoid func\n",
        "unsigmoid_fn = lambda x: torch.log(x / (1 - x))\n",
        "\n",
        "# TEST Sanity \n",
        "unsigmoid_fn(torch.sigmoid(torch.tensor([3])))"
      ],
      "metadata": {
        "colab": {
          "base_uri": "https://localhost:8080/"
        },
        "id": "upqkU5FnTM7g",
        "outputId": "29b8ad4f-556d-46bf-b124-33fbc2bdac9a"
      },
      "execution_count": 16,
      "outputs": [
        {
          "output_type": "execute_result",
          "data": {
            "text/plain": [
              "tensor([3.0000])"
            ]
          },
          "metadata": {},
          "execution_count": 16
        }
      ]
    },
    {
      "cell_type": "code",
      "source": [
        "# Create logistic regression model\n",
        "class LogisticRegression(nn.Module):\n",
        "    def __init__(self, input_dim: int):\n",
        "        super(LogisticRegression, self).__init__()\n",
        "        self.linear_layer = nn.Linear(input_dim, 1)\n",
        "\n",
        "    def forward(self, x: np.array):\n",
        "        return torch.sigmoid(self.linear_layer(x))"
      ],
      "metadata": {
        "id": "lHDsjsONRXuX"
      },
      "execution_count": 17,
      "outputs": []
    },
    {
      "cell_type": "code",
      "source": [
        "# TEST cell\n",
        "\n",
        "input_dim = 200\n",
        "batch_size = 6\n",
        "rand_input = torch.randn((batch_size, input_dim))\n",
        "lr_model = LogisticRegression(input_dim)\n",
        "\n",
        "output = lr_model(rand_input)\n",
        "output"
      ],
      "metadata": {
        "colab": {
          "base_uri": "https://localhost:8080/"
        },
        "id": "ISrS-QKOSnEf",
        "outputId": "177d427d-a97f-40ca-8dcc-748322c40018"
      },
      "execution_count": 18,
      "outputs": [
        {
          "output_type": "execute_result",
          "data": {
            "text/plain": [
              "tensor([[0.4645],\n",
              "        [0.4472],\n",
              "        [0.4818],\n",
              "        [0.3360],\n",
              "        [0.2389],\n",
              "        [0.2205]], grad_fn=<SigmoidBackward0>)"
            ]
          },
          "metadata": {},
          "execution_count": 18
        }
      ]
    },
    {
      "cell_type": "code",
      "source": [
        "def train(\n",
        "    dataloader: torch.utils.data.dataloader.DataLoader,\n",
        "    model: LogisticRegression,\n",
        "    loss_fn: torch.nn.modules.loss.BCELoss,\n",
        "    optimizer: torch.optim.Adam,\n",
        ") -> float:\n",
        "    model.train()\n",
        "\n",
        "    losses = []\n",
        "\n",
        "    for idx, batch in enumerate(tqdm.tqdm(dataloader, desc='training...', file=sys.stdout, position=0, leave=True)):\n",
        "        input_samples, labels = batch\n",
        "        optimizer.zero_grad()\n",
        "\n",
        "        # Make the prediction\n",
        "        preds = model(input_samples).squeeze().double()\n",
        "\n",
        "        # Compute the loss\n",
        "        loss = loss_fn(preds, labels)\n",
        "\n",
        "        # Gradient clip\n",
        "        torch.nn.utils.clip_grad_norm_(model.parameters(), 1.0)\n",
        "\n",
        "        # Backprop\n",
        "        loss.backward()\n",
        "        optimizer.step()\n",
        "\n",
        "        losses.append(loss)\n",
        "\n",
        "        if idx % 501 == 0:\n",
        "            print(\" Training Loss: {}\".format(torch.tensor(losses).mean()))\n",
        "\n",
        "    return torch.tensor(losses).mean()\n",
        "\n",
        "def evaluate(\n",
        "    dataloader: torch.utils.data.dataloader.DataLoader,\n",
        "    model: LogisticRegression,\n",
        "    loss_fn: torch.nn.modules.loss.BCELoss,\n",
        ") -> float:\n",
        "    model.eval()\n",
        "\n",
        "    losses = []\n",
        "\n",
        "    with torch.no_grad():\n",
        "        for idx, batch in enumerate(tqdm.tqdm(dataloader, desc='evaluation...', file=sys.stdout, position=0, leave=True)):\n",
        "            input_samples, labels = batch\n",
        "            preds = model(input_samples).squeeze().double()\n",
        "\n",
        "            # Compute the loss\n",
        "            loss = loss_fn(preds, labels)\n",
        "            losses.append(loss)\n",
        "\n",
        "    return torch.tensor(losses).mean()\n",
        "\n",
        "def training_epochs(\n",
        "    model: LogisticRegression,\n",
        "    loss_fn: torch.nn.modules.loss.BCELoss,\n",
        "    optimizer: torch.optim.Adam,\n",
        "    n_epochs: int,\n",
        "    train_dataloader: torch.utils.data.dataloader.DataLoader,\n",
        "    test_dataloader: torch.utils.data.dataloader.DataLoader\n",
        "):\n",
        "    best_loss = float('inf')\n",
        "    for epoch in range(n_epochs):\n",
        "        print(f'Epoch: {epoch+1}')\n",
        "        train_loss = train(train_dataloader, model, loss_fn, optimizer)\n",
        "        test_loss = evaluate(test_dataloader, model, loss_fn)\n",
        "\n",
        "        print()\n",
        "        print(\"Training Loss  : {}\".format(train_loss))\n",
        "        print(\"Evaluation Loss: {}\".format(test_loss))\n",
        "        print()\n",
        "        print('----------')\n"
      ],
      "metadata": {
        "id": "Op2XUqy-S66a"
      },
      "execution_count": 79,
      "outputs": []
    },
    {
      "cell_type": "markdown",
      "source": [
        "Study:\n",
        "\n",
        "- Train a first model with all the categorical features except one (Diabetic for instance)\n",
        "\n",
        "- Retrain the model but with all the categorical features\n",
        "\n",
        "- Compute the loss improvement (impact of the new feature)\n",
        "\n",
        "- Compute the loss improvement with the method described in the paper\n",
        "\n",
        "- Comapare both loss improvement (should be same or similar)\n",
        "\n",
        "- Do the same (all the steps) but this time with regularization"
      ],
      "metadata": {
        "id": "Y5Hpd8mnVP5D"
      }
    },
    {
      "cell_type": "markdown",
      "source": [
        "1. Train a model with categorical features except one"
      ],
      "metadata": {
        "id": "n76uVNttP_OD"
      }
    },
    {
      "cell_type": "code",
      "source": [
        "# Do not take into account age category\n",
        "categorical_features_without_age = [\n",
        "    'Smoking',\n",
        "    'AlcoholDrinking',\n",
        "    'Stroke',\n",
        "    'PhysicalHealth',\n",
        "    'MentalHealth',\n",
        "    'DiffWalking',\n",
        "    'Sex',\n",
        "    # 'AgeCategory',\n",
        "    'Race',\n",
        "    'Diabetic',\n",
        "    'PhysicalActivity',\n",
        "    'GenHealth',\n",
        "    'SleepTime',\n",
        "    'Asthma',\n",
        "    'KidneyDisease',\n",
        "    'SkinCancer'\n",
        "]"
      ],
      "metadata": {
        "id": "dIulNXPmlo6r"
      },
      "execution_count": 89,
      "outputs": []
    },
    {
      "cell_type": "code",
      "source": [
        "batch_size = 32\n",
        "hashing_space_size = 2461\n",
        "\n",
        "# Create the Hasher\n",
        "hasher = Hasher(hashing_size=hashing_space_size)\n",
        "\n",
        "# Create the model\n",
        "lr_model = LogisticRegression(hashing_space_size)\n",
        "\n",
        "# Create the datasets\n",
        "train_dataset = HealthDataset(X_train, y_train, categorical_features_without_age, hasher)\n",
        "test_dataset = HealthDataset(X_test, y_test, categorical_features_without_age, hasher)\n",
        "\n",
        "# Create the dataloaders\n",
        "train_dataloader = torch.utils.data.DataLoader(\n",
        "    train_dataset,\n",
        "    batch_size=batch_size,\n",
        "    shuffle=True\n",
        ")\n",
        "\n",
        "test_dataloader = torch.utils.data.DataLoader(\n",
        "    test_dataset,\n",
        "    batch_size=batch_size\n",
        ")\n",
        "\n",
        "# Create the loss\n",
        "loss_fn = nn.BCELoss()\n",
        "\n",
        "# Create the optimizer\n",
        "lr = 0.001\n",
        "optimizer = torch.optim.Adam(lr_model.parameters(), lr=lr)"
      ],
      "metadata": {
        "id": "s83yQqYvQ9Q4"
      },
      "execution_count": 80,
      "outputs": []
    },
    {
      "cell_type": "code",
      "source": [
        "n_epochs = 3\n",
        "training_epochs(lr_model, loss_fn, optimizer, n_epochs, train_dataloader, test_dataloader)"
      ],
      "metadata": {
        "colab": {
          "base_uri": "https://localhost:8080/"
        },
        "id": "jhgJR1W12lMo",
        "outputId": "ffc001b2-c5c0-486e-f650-7a7837d360db"
      },
      "execution_count": 81,
      "outputs": [
        {
          "output_type": "stream",
          "name": "stdout",
          "text": [
            "Epoch: 1\n",
            "training...:   0%|          | 0/7995 [00:00<?, ?it/s] Training Loss: 0.6833636969039508\n",
            "training...:   6%|▌         | 492/7995 [00:08<01:20, 93.53it/s] Training Loss: 0.3299027479989785\n",
            "training...:  13%|█▎        | 1002/7995 [00:13<01:12, 96.03it/s] Training Loss: 0.2960950030647426\n",
            "training...:  19%|█▉        | 1500/7995 [00:18<01:08, 95.13it/s] Training Loss: 0.2817512017885029\n",
            "training...:  25%|██▌       | 2000/7995 [00:23<01:00, 98.49it/s] Training Loss: 0.27309005875258413\n",
            "training...:  31%|███       | 2495/7995 [00:28<00:56, 97.53it/s] Training Loss: 0.26448166071577583\n",
            "training...:  37%|███▋      | 2996/7995 [00:34<00:51, 96.90it/s]  Training Loss: 0.2611358483060761\n",
            "training...:  44%|████▍     | 3502/7995 [00:39<00:47, 94.68it/s] Training Loss: 0.2581855607327359\n",
            "training...:  50%|█████     | 4001/7995 [00:44<00:39, 100.40it/s] Training Loss: 0.25555674561861536\n",
            "training...:  56%|█████▋    | 4503/7995 [00:49<00:34, 99.82it/s]  Training Loss: 0.2547021473543587\n",
            "training...:  63%|██████▎   | 5004/7995 [00:54<00:30, 98.71it/s] Training Loss: 0.25424613668964663\n",
            "training...:  69%|██████▉   | 5503/7995 [00:59<00:25, 99.61it/s]  Training Loss: 0.25260379373699454\n",
            "training...:  75%|███████▌  | 6009/7995 [01:04<00:20, 98.59it/s] Training Loss: 0.25078313721118556\n",
            "training...:  81%|████████▏ | 6505/7995 [01:09<00:15, 98.94it/s] Training Loss: 0.2500357008141008\n",
            "training...:  88%|████████▊ | 7011/7995 [01:14<00:09, 100.32it/s] Training Loss: 0.24915299924257914\n",
            "training...:  94%|█████████▍| 7510/7995 [01:20<00:04, 100.64it/s] Training Loss: 0.24835089661914528\n",
            "training...: 100%|██████████| 7995/7995 [01:27<00:00, 91.85it/s]\n",
            "evaluation...: 100%|██████████| 1999/1999 [00:25<00:00, 77.19it/s] \n",
            "\n",
            "Training Loss  : 0.24810704306444284\n",
            "Evaluation Loss: 0.2474308175767528\n",
            "\n",
            "----------\n",
            "Epoch: 2\n",
            "training...:   0%|          | 0/7995 [00:00<?, ?it/s] Training Loss: 0.17441999334210256\n",
            "training...:   6%|▌         | 494/7995 [00:04<01:13, 101.53it/s] Training Loss: 0.24133986098826687\n",
            "training...:  13%|█▎        | 1001/7995 [00:10<01:11, 97.27it/s] Training Loss: 0.24282387559718835\n",
            "training...:  19%|█▊        | 1498/7995 [00:15<01:04, 101.42it/s] Training Loss: 0.24114882216712327\n",
            "training...:  25%|██▌       | 2001/7995 [00:20<01:01, 97.54it/s] Training Loss: 0.24053729705692778\n",
            "training...:  31%|███▏      | 2504/7995 [00:25<00:56, 97.79it/s]  Training Loss: 0.23922682865019054\n",
            "training...:  38%|███▊      | 3002/7995 [00:30<00:54, 91.42it/s] Training Loss: 0.2390051750374529\n",
            "training...:  44%|████▍     | 3502/7995 [00:35<00:46, 97.26it/s] Training Loss: 0.238934207911438\n",
            "training...:  50%|█████     | 4005/7995 [00:40<00:40, 98.61it/s] Training Loss: 0.23866787931169198\n",
            "training...:  56%|█████▋    | 4507/7995 [00:45<00:34, 99.74it/s]  Training Loss: 0.2387740162834576\n",
            "training...:  63%|██████▎   | 5004/7995 [00:50<00:31, 95.79it/s] Training Loss: 0.23989186808579624\n",
            "training...:  69%|██████▉   | 5511/7995 [00:56<00:25, 95.69it/s] Training Loss: 0.23965749178072046\n",
            "training...:  75%|███████▌  | 6003/7995 [01:01<00:21, 94.84it/s] Training Loss: 0.23955577438745773\n",
            "training...:  81%|████████▏ | 6511/7995 [01:06<00:15, 93.12it/s] Training Loss: 0.2398561302170624\n",
            "training...:  88%|████████▊ | 7008/7995 [01:13<00:10, 98.63it/s] Training Loss: 0.23978983095887874\n",
            "training...:  94%|█████████▍| 7514/7995 [01:18<00:04, 99.88it/s] Training Loss: 0.23988060649405435\n",
            "training...: 100%|██████████| 7995/7995 [01:23<00:00, 95.67it/s]\n",
            "evaluation...: 100%|██████████| 1999/1999 [00:18<00:00, 108.17it/s]\n",
            "\n",
            "Training Loss  : 0.24005422342898788\n",
            "Evaluation Loss: 0.2473589212548102\n",
            "\n",
            "----------\n",
            "Epoch: 3\n",
            "training...:   0%|          | 0/7995 [00:00<?, ?it/s] Training Loss: 0.3662650167135628\n",
            "training...:   6%|▌         | 497/7995 [00:05<01:15, 99.52it/s] Training Loss: 0.24686611384608267\n",
            "training...:  12%|█▏        | 998/7995 [00:10<01:12, 95.93it/s] Training Loss: 0.24278910468793163\n",
            "training...:  19%|█▊        | 1498/7995 [00:15<01:05, 98.48it/s] Training Loss: 0.23902290484596098\n",
            "training...:  25%|██▌       | 2000/7995 [00:20<01:00, 99.25it/s] Training Loss: 0.2390815071483584\n",
            "training...:  31%|███       | 2496/7995 [00:25<00:55, 98.29it/s] Training Loss: 0.24024813506885118\n",
            "training...:  38%|███▊      | 3004/7995 [00:30<00:49, 101.09it/s] Training Loss: 0.23865144537348196\n",
            "training...:  44%|████▍     | 3507/7995 [00:35<00:45, 97.99it/s] Training Loss: 0.2384392342686511\n",
            "training...:  50%|█████     | 4002/7995 [00:40<00:42, 93.33it/s] Training Loss: 0.23885038957047833\n",
            "training...:  56%|█████▋    | 4501/7995 [00:46<00:35, 97.43it/s] Training Loss: 0.23958735657029814\n",
            "training...:  63%|██████▎   | 5002/7995 [00:51<00:31, 94.87it/s] Training Loss: 0.24004064046215765\n",
            "training...:  69%|██████▉   | 5507/7995 [00:56<00:25, 99.15it/s] Training Loss: 0.23945132324896332\n",
            "training...:  75%|███████▌  | 6012/7995 [01:01<00:19, 101.28it/s] Training Loss: 0.24006276367743348\n",
            "training...:  81%|████████▏ | 6508/7995 [01:06<00:15, 97.82it/s] Training Loss: 0.24001887988367174\n",
            "training...:  88%|████████▊ | 7011/7995 [01:12<00:10, 93.95it/s] Training Loss: 0.2403305037381952\n",
            "training...:  94%|█████████▍| 7513/7995 [01:17<00:04, 97.77it/s] Training Loss: 0.24026979636524487\n",
            "training...: 100%|██████████| 7995/7995 [01:22<00:00, 97.15it/s]\n",
            "evaluation...: 100%|██████████| 1999/1999 [00:18<00:00, 108.65it/s]\n",
            "\n",
            "Training Loss  : 0.2399905708858262\n",
            "Evaluation Loss: 0.24735161529341648\n",
            "\n",
            "----------\n"
          ]
        }
      ]
    },
    {
      "cell_type": "markdown",
      "source": [
        "2. Re-train the model with all the features\n",
        "\n",
        "And compute the loss improvement"
      ],
      "metadata": {
        "id": "Qk3bftr3mLpb"
      }
    },
    {
      "cell_type": "code",
      "source": [
        "# Features\n",
        "categorical_features = [\n",
        "    'Smoking',\n",
        "    'AlcoholDrinking',\n",
        "    'Stroke',\n",
        "    'PhysicalHealth',\n",
        "    'MentalHealth',\n",
        "    'DiffWalking',\n",
        "    'Sex',\n",
        "    'AgeCategory',\n",
        "    'Race',\n",
        "    'Diabetic',\n",
        "    'PhysicalActivity',\n",
        "    'GenHealth',\n",
        "    'SleepTime',\n",
        "    'Asthma',\n",
        "    'KidneyDisease',\n",
        "    'SkinCancer'\n",
        "]"
      ],
      "metadata": {
        "id": "RI6dtOs4n2Qn"
      },
      "execution_count": 82,
      "outputs": []
    },
    {
      "cell_type": "code",
      "source": [
        "batch_size = 32\n",
        "hashing_space_size = 2461\n",
        "\n",
        "# Create the Hasher\n",
        "hasher = Hasher(hashing_size=hashing_space_size)\n",
        "\n",
        "# Create the model with all features ('af')\n",
        "lr_model_af = LogisticRegression(hashing_space_size)\n",
        "\n",
        "# Create the datasets\n",
        "train_dataset = HealthDataset(X_train, y_train, categorical_features, hasher)\n",
        "test_dataset = HealthDataset(X_test, y_test, categorical_features, hasher)\n",
        "\n",
        "# Create the dataloaders\n",
        "train_dataloader = torch.utils.data.DataLoader(\n",
        "    train_dataset,\n",
        "    batch_size=batch_size,\n",
        "    shuffle=True\n",
        ")\n",
        "\n",
        "test_dataloader = torch.utils.data.DataLoader(\n",
        "    test_dataset,\n",
        "    batch_size=batch_size\n",
        ")\n",
        "\n",
        "# Create the loss\n",
        "loss_fn = nn.BCELoss()\n",
        "\n",
        "# Create the optimizer\n",
        "lr = 0.001\n",
        "optimizer = torch.optim.Adam(lr_model_af.parameters(), lr=lr)"
      ],
      "metadata": {
        "id": "WMeGsHEQ0bPz"
      },
      "execution_count": 83,
      "outputs": []
    },
    {
      "cell_type": "code",
      "source": [
        "n_epochs = 3\n",
        "training_epochs(lr_model_af, loss_fn, optimizer, n_epochs, train_dataloader, test_dataloader)"
      ],
      "metadata": {
        "colab": {
          "base_uri": "https://localhost:8080/"
        },
        "id": "0foPDFWMnSk5",
        "outputId": "9daa7400-54c2-49cb-bc0f-c739930a5a89"
      },
      "execution_count": 84,
      "outputs": [
        {
          "output_type": "stream",
          "name": "stdout",
          "text": [
            "Epoch: 1\n",
            "training...:   0%|          | 0/7995 [00:00<?, ?it/s] Training Loss: 0.683092419982565\n",
            "training...:   6%|▋         | 501/7995 [00:06<01:19, 94.59it/s] Training Loss: 0.30998312434651265\n",
            "training...:  12%|█▏        | 997/7995 [00:12<01:13, 95.46it/s] Training Loss: 0.28463421940062744\n",
            "training...:  19%|█▊        | 1496/7995 [00:18<01:10, 92.17it/s] Training Loss: 0.27093243550760965\n",
            "training...:  25%|██▍       | 1995/7995 [00:23<01:03, 94.16it/s] Training Loss: 0.26252640475099204\n",
            "training...:  31%|███▏      | 2505/7995 [00:28<00:57, 95.44it/s] Training Loss: 0.2559077650023678\n",
            "training...:  38%|███▊      | 3004/7995 [00:33<00:51, 95.99it/s] Training Loss: 0.2522454715398478\n",
            "training...:  44%|████▍     | 3503/7995 [00:39<00:46, 96.76it/s] Training Loss: 0.24897258693549673\n",
            "training...:  50%|█████     | 4000/7995 [00:44<00:41, 95.39it/s] Training Loss: 0.24720931588322817\n",
            "training...:  56%|█████▋    | 4505/7995 [00:49<00:35, 97.80it/s] Training Loss: 0.24594686936706817\n",
            "training...:  63%|██████▎   | 5003/7995 [00:54<00:32, 91.09it/s] Training Loss: 0.24298212106165934\n",
            "training...:  69%|██████▉   | 5503/7995 [01:00<00:26, 95.58it/s] Training Loss: 0.24180379546303193\n",
            "training...:  75%|███████▌  | 6003/7995 [01:05<00:21, 93.51it/s] Training Loss: 0.2406338224406955\n",
            "training...:  81%|████████▏ | 6504/7995 [01:10<00:15, 95.97it/s] Training Loss: 0.23896752421204678\n",
            "training...:  88%|████████▊ | 7014/7995 [01:16<00:10, 95.96it/s] Training Loss: 0.23820809217131378\n",
            "training...:  94%|█████████▍| 7505/7995 [01:21<00:05, 94.85it/s] Training Loss: 0.23712634042824912\n",
            "training...: 100%|██████████| 7995/7995 [01:26<00:00, 92.43it/s]\n",
            "evaluation...: 100%|██████████| 1999/1999 [00:18<00:00, 108.74it/s]\n",
            "\n",
            "Training Loss  : 0.23640073681310708\n",
            "Evaluation Loss: 0.23262913255097775\n",
            "\n",
            "----------\n",
            "Epoch: 2\n",
            "training...:   0%|          | 0/7995 [00:00<?, ?it/s] Training Loss: 0.44504557064503536\n",
            "training...:   6%|▌         | 496/7995 [00:05<01:19, 94.41it/s] Training Loss: 0.2274004328017846\n",
            "training...:  13%|█▎        | 1000/7995 [00:10<01:14, 93.57it/s] Training Loss: 0.2255040921272635\n",
            "training...:  19%|█▊        | 1497/7995 [00:16<01:34, 69.12it/s] Training Loss: 0.22568165590985212\n",
            "training...:  25%|██▌       | 1999/7995 [00:24<01:11, 83.61it/s] Training Loss: 0.22616704835638393\n",
            "training...:  31%|███▏      | 2500/7995 [00:32<00:59, 92.44it/s] Training Loss: 0.22714311476753102\n",
            "training...:  38%|███▊      | 3006/7995 [00:37<00:57, 86.77it/s] Training Loss: 0.22504921191463956\n",
            "training...:  44%|████▍     | 3502/7995 [00:45<01:25, 52.61it/s] Training Loss: 0.22515843402180982\n",
            "training...:  50%|█████     | 4004/7995 [00:52<00:40, 97.86it/s] Training Loss: 0.22539726384739786\n",
            "training...:  56%|█████▋    | 4501/7995 [00:57<00:36, 95.11it/s] Training Loss: 0.22664830923739515\n",
            "training...:  63%|██████▎   | 5005/7995 [01:03<00:31, 93.47it/s] Training Loss: 0.22609927246932196\n",
            "training...:  69%|██████▉   | 5505/7995 [01:08<00:28, 88.91it/s] Training Loss: 0.22627371354803794\n",
            "training...:  75%|███████▌  | 6003/7995 [01:14<00:20, 95.02it/s] Training Loss: 0.22686459728140215\n",
            "training...:  81%|████████▏ | 6513/7995 [01:19<00:16, 91.65it/s] Training Loss: 0.22655443967133745\n",
            "training...:  88%|████████▊ | 7009/7995 [01:25<00:10, 93.08it/s] Training Loss: 0.2261551166044358\n",
            "training...:  94%|█████████▍| 7514/7995 [01:30<00:05, 95.06it/s] Training Loss: 0.22603941534411728\n",
            "training...: 100%|██████████| 7995/7995 [01:35<00:00, 83.63it/s]\n",
            "evaluation...: 100%|██████████| 1999/1999 [00:18<00:00, 107.05it/s]\n",
            "\n",
            "Training Loss  : 0.2259258407976455\n",
            "Evaluation Loss: 0.23224146589952427\n",
            "\n",
            "----------\n",
            "Epoch: 3\n",
            "training...:   0%|          | 0/7995 [00:00<?, ?it/s] Training Loss: 0.23103896583464037\n",
            "training...:   6%|▌         | 494/7995 [00:05<01:16, 97.63it/s] Training Loss: 0.233967288134749\n",
            "training...:  12%|█▏        | 993/7995 [00:10<01:15, 92.57it/s] Training Loss: 0.22836094135192747\n",
            "training...:  19%|█▉        | 1502/7995 [00:15<01:09, 92.90it/s] Training Loss: 0.2294044977597421\n",
            "training...:  25%|██▍       | 1995/7995 [00:21<01:01, 97.27it/s] Training Loss: 0.22867379251465514\n",
            "training...:  31%|███▏      | 2502/7995 [00:26<01:01, 89.56it/s] Training Loss: 0.22714027995850372\n",
            "training...:  38%|███▊      | 3006/7995 [00:31<00:52, 94.97it/s] Training Loss: 0.22603452743000116\n",
            "training...:  44%|████▍     | 3506/7995 [00:37<00:46, 95.81it/s] Training Loss: 0.22563345033655882\n",
            "training...:  50%|█████     | 4008/7995 [00:42<00:42, 94.49it/s] Training Loss: 0.2264291917310347\n",
            "training...:  56%|█████▋    | 4499/7995 [00:48<00:37, 94.07it/s] Training Loss: 0.226558341698367\n",
            "training...:  63%|██████▎   | 5009/7995 [00:53<00:30, 96.45it/s] Training Loss: 0.2264702144956137\n",
            "training...:  69%|██████▉   | 5510/7995 [00:58<00:27, 91.34it/s] Training Loss: 0.22597022852524964\n",
            "training...:  75%|███████▌  | 6003/7995 [01:04<00:21, 92.52it/s] Training Loss: 0.22630367106789967\n",
            "training...:  81%|████████▏ | 6510/7995 [01:09<00:15, 98.34it/s] Training Loss: 0.2263493563423217\n",
            "training...:  88%|████████▊ | 7013/7995 [01:15<00:10, 93.27it/s] Training Loss: 0.22639880885250296\n",
            "training...:  94%|█████████▍| 7507/7995 [01:20<00:05, 93.80it/s] Training Loss: 0.2262729065105561\n",
            "training...: 100%|██████████| 7995/7995 [01:25<00:00, 93.00it/s]\n",
            "evaluation...: 100%|██████████| 1999/1999 [00:19<00:00, 103.88it/s]\n",
            "\n",
            "Training Loss  : 0.2257767457342983\n",
            "Evaluation Loss: 0.2324779820886973\n",
            "\n",
            "----------\n"
          ]
        }
      ]
    },
    {
      "cell_type": "code",
      "source": [
        "eval_loss_without_age = 0.24735161529341648\n",
        "eval_loss_allfeatures = 0.2324779820886973\n",
        "\n",
        "loss_improvement = 100 * (eval_loss_allfeatures - eval_loss_without_age) / eval_loss_without_age\n",
        "print(\"Loss improvement: {}%\".format(round(loss_improvement, 3)))"
      ],
      "metadata": {
        "colab": {
          "base_uri": "https://localhost:8080/"
        },
        "id": "kj4w4zOyumC_",
        "outputId": "8398fa1e-0060-484d-8217-aea75d482131"
      },
      "execution_count": 86,
      "outputs": [
        {
          "output_type": "stream",
          "name": "stdout",
          "text": [
            "Loss improvement: -6.013%\n"
          ]
        }
      ]
    },
    {
      "cell_type": "markdown",
      "source": [
        "Implementation of the loss improvement method described in the paper\n",
        "\n",
        "We should find something close to -6%\n",
        "\n",
        "IMPORTANT: In this part we must use the model: `lr_model`"
      ],
      "metadata": {
        "id": "ks34j8juT7pj"
      }
    },
    {
      "cell_type": "code",
      "source": [
        "batch_size = 32\n",
        "hashing_space_size = 2461\n",
        "\n",
        "# Create the Hasher\n",
        "hasher = Hasher(hashing_size=hashing_space_size)\n",
        "\n",
        "# Create the datasets\n",
        "train_dataset = HealthDataset(X_train, y_train, categorical_features_without_age, hasher)\n",
        "test_dataset = HealthDataset(X_test, y_test, categorical_features_without_age, hasher)\n",
        "\n",
        "# Create the dataloaders\n",
        "train_dataloader = torch.utils.data.DataLoader(\n",
        "    train_dataset,\n",
        "    batch_size=batch_size\n",
        ")\n",
        "\n",
        "test_dataloader = torch.utils.data.DataLoader(\n",
        "    test_dataset,\n",
        "    batch_size=batch_size\n",
        ")\n",
        "\n",
        "# Create the loss\n",
        "loss_fn = nn.BCELoss()"
      ],
      "metadata": {
        "id": "1M3KXBXewkoW"
      },
      "execution_count": 90,
      "outputs": []
    },
    {
      "cell_type": "code",
      "source": [
        "# Make prediction with the model in which we don't have all the features\n",
        "initial_train_loss = evaluate(train_dataloader, lr_model, loss_fn)\n",
        "initial_test_loss = evaluate(test_dataloader, lr_model, loss_fn)"
      ],
      "metadata": {
        "colab": {
          "base_uri": "https://localhost:8080/"
        },
        "id": "FWU9_Y-UwGLf",
        "outputId": "d2bfc86e-d358-4051-d3fb-11a8db7290a0"
      },
      "execution_count": 91,
      "outputs": [
        {
          "output_type": "stream",
          "name": "stdout",
          "text": [
            "evaluation...: 100%|██████████| 7995/7995 [01:25<00:00, 93.00it/s] \n",
            "evaluation...: 100%|██████████| 1999/1999 [00:19<00:00, 100.96it/s]\n"
          ]
        }
      ]
    },
    {
      "cell_type": "code",
      "source": [
        "# Make prediction with the model with all the features\n",
        "\n",
        "# Create the datasets\n",
        "train_dataset = HealthDataset(X_train, y_train, categorical_features, hasher)\n",
        "test_dataset = HealthDataset(X_test, y_test, categorical_features, hasher)\n",
        "\n",
        "# Create the dataloaders\n",
        "train_dataloader = torch.utils.data.DataLoader(\n",
        "    train_dataset,\n",
        "    batch_size=batch_size\n",
        ")\n",
        "\n",
        "test_dataloader = torch.utils.data.DataLoader(\n",
        "    test_dataset,\n",
        "    batch_size=batch_size\n",
        ")\n",
        "\n",
        "allfeatures_train_loss = evaluate(train_dataloader, lr_model_af, loss_fn)\n",
        "allfeatures_test_loss = evaluate(test_dataloader, lr_model_af, loss_fn)"
      ],
      "metadata": {
        "colab": {
          "base_uri": "https://localhost:8080/"
        },
        "id": "aGVDo4lTGhtS",
        "outputId": "44ffe4ff-af8a-47e8-dde4-5f4a5fb32ecd"
      },
      "execution_count": 208,
      "outputs": [
        {
          "output_type": "stream",
          "name": "stdout",
          "text": [
            "evaluation...: 100%|██████████| 7995/7995 [01:17<00:00, 102.63it/s]\n",
            "evaluation...: 100%|██████████| 1999/1999 [00:25<00:00, 79.30it/s]\n"
          ]
        }
      ]
    },
    {
      "cell_type": "code",
      "source": [
        "def get_predictions(\n",
        "    model: LogisticRegression,\n",
        "    health_dataset: HealthDataset,\n",
        ") -> torch.tensor:\n",
        "    model.eval()\n",
        "\n",
        "    preds = []\n",
        "\n",
        "    with torch.no_grad():\n",
        "        for idx, batch in enumerate(tqdm.tqdm(health_dataset, desc='make predictions...', file=sys.stdout, position=0, leave=True)):\n",
        "            input_sample, _ = batch\n",
        "            pred = model(input_sample.unsqueeze(dim=0)).squeeze().double()\n",
        "            preds.append(pred.item())\n",
        "\n",
        "    return torch.tensor(preds)"
      ],
      "metadata": {
        "id": "QbDxBy-Syy6V"
      },
      "execution_count": 144,
      "outputs": []
    },
    {
      "cell_type": "code",
      "source": [
        "# TEST cell\n",
        "# Sanity\n",
        "\n",
        "l = []\n",
        "for idx, elm in enumerate(test_dataset):\n",
        "    if idx == 10:\n",
        "        break\n",
        "    l.append(int(elm[1]))\n",
        "\n",
        "\n",
        "print(X_test.iloc[:10]['label'].tolist(), l)\n",
        "\n",
        "l = []\n",
        "for idx, elm in enumerate(train_dataset):\n",
        "    if idx == 10:\n",
        "        break\n",
        "    l.append(int(elm[1]))\n",
        "\n",
        "\n",
        "print(X_train.iloc[:10]['label'].tolist(), l)"
      ],
      "metadata": {
        "colab": {
          "base_uri": "https://localhost:8080/"
        },
        "id": "llyx1Cq70cNo",
        "outputId": "95778a86-9601-4f81-bcdd-1f086b045ec6"
      },
      "execution_count": 119,
      "outputs": [
        {
          "output_type": "stream",
          "name": "stdout",
          "text": [
            "[0, 0, 0, 0, 0, 1, 0, 0, 0, 0] [0, 0, 0, 0, 0, 1, 0, 0, 0, 0]\n",
            "[0, 1, 0, 0, 1, 0, 0, 0, 0, 0] [0, 1, 0, 0, 1, 0, 0, 0, 0, 0]\n"
          ]
        }
      ]
    },
    {
      "cell_type": "code",
      "source": [
        "# Get the prediction\n",
        "train_probas = get_predictions(lr_model, train_dataset)\n",
        "test_probas = get_predictions(lr_model, test_dataset)"
      ],
      "metadata": {
        "colab": {
          "base_uri": "https://localhost:8080/"
        },
        "id": "UZmEbtIYz0Xn",
        "outputId": "070a46cf-0aba-485e-f659-19f5910db1ab"
      },
      "execution_count": 128,
      "outputs": [
        {
          "output_type": "stream",
          "name": "stdout",
          "text": [
            "make predictions...: 100%|██████████| 255836/255836 [01:41<00:00, 2511.94it/s]\n",
            "make predictions...: 100%|██████████| 63959/63959 [00:24<00:00, 2595.81it/s]\n"
          ]
        }
      ]
    },
    {
      "cell_type": "code",
      "source": [
        "# Get the prediction unsigmoid\n",
        "train_preds = unsigmoid_fn(train_probas)\n",
        "test_preds = unsigmoid_fn(test_probas)"
      ],
      "metadata": {
        "id": "RNaNieUf29sM"
      },
      "execution_count": 136,
      "outputs": []
    },
    {
      "cell_type": "code",
      "source": [
        "# Put the prediction in the X_train and X_test\n",
        "\n",
        "# TRAIN\n",
        "X_train['pred_proba'] = train_probas\n",
        "X_train['pred_unsigmoid'] = train_preds\n",
        "\n",
        "# TEST\n",
        "X_test['pred_proba'] = test_probas\n",
        "X_test['pred_unsigmoid'] = test_preds"
      ],
      "metadata": {
        "id": "RLrLD2mAyUj7"
      },
      "execution_count": 138,
      "outputs": []
    },
    {
      "cell_type": "code",
      "source": [
        "# Map the labels to -1 and 1\n",
        "label_mapping = lambda x: -1 if x == 0 else 1\n",
        "\n",
        "X_train['label'] = X_train['label'].apply(label_mapping)\n",
        "X_test['label'] = X_test['label'].apply(label_mapping)"
      ],
      "metadata": {
        "id": "QutHAlvM43XV"
      },
      "execution_count": 142,
      "outputs": []
    },
    {
      "cell_type": "code",
      "source": [
        "# Compute each weight for each modality of the feature\n",
        "\n",
        "def compute_weights(df: pd.DataFrame, feature_column: str):\n",
        "    '''\n",
        "    Compute the weight for all the modalities\n",
        "    This implementation might not be the most efficient\n",
        "    '''\n",
        "    category_modalities = df[feature_column].unique()\n",
        "    weights = []\n",
        "\n",
        "    for modality in category_modalities:\n",
        "        # Compute L' and L''\n",
        "        filtered_df = df[df[feature_column] == modality]\n",
        "        L_prime = (filtered_df['pred_proba'] - (filtered_df['label'] + 1) / 2.0).sum()\n",
        "        L_prime_prime = (filtered_df['pred_proba'] * (1 - filtered_df['pred_proba'])).sum()\n",
        "        w = - L_prime / L_prime_prime\n",
        "        weights.append(w)\n",
        "\n",
        "        print(\"Modality: {} -> weight: {}\".format(modality, w))\n",
        "\n",
        "    return torch.tensor(weights), np.array(category_modalities)"
      ],
      "metadata": {
        "id": "joBzDHCv6APs"
      },
      "execution_count": 164,
      "outputs": []
    },
    {
      "cell_type": "code",
      "source": [
        "weights, category_modalities = compute_weights(X_train, 'AgeCategory')"
      ],
      "metadata": {
        "colab": {
          "base_uri": "https://localhost:8080/"
        },
        "id": "gj1KRxPa9G8x",
        "outputId": "c669dc7b-4ce0-412e-9143-e820fc981ff3"
      },
      "execution_count": 165,
      "outputs": [
        {
          "output_type": "stream",
          "name": "stdout",
          "text": [
            "Modality: 75-79 -> weight: 0.4836946052833845\n",
            "Modality: 55-59 -> weight: -0.24018742041374255\n",
            "Modality: 50-54 -> weight: -0.36881469618391494\n",
            "Modality: 25-29 -> weight: -0.8777887738226783\n",
            "Modality: 80 or older -> weight: 0.6979074249508809\n",
            "Modality: 30-34 -> weight: -0.8320965726960327\n",
            "Modality: 70-74 -> weight: 0.31965294429995306\n",
            "Modality: 40-44 -> weight: -0.7004012757232445\n",
            "Modality: 35-39 -> weight: -0.8334942087090931\n",
            "Modality: 18-24 -> weight: -0.9036539242982088\n",
            "Modality: 45-49 -> weight: -0.5863626574607549\n",
            "Modality: 60-64 -> weight: -0.07687872416171881\n",
            "Modality: 65-69 -> weight: 0.10349676540055677\n"
          ]
        }
      ]
    },
    {
      "cell_type": "code",
      "source": [
        "# Add the weight column in train df and test df\n",
        "\n",
        "def add_weight_column(modality: str, category_modalities: np.array, weights: torch.tensor):\n",
        "    idx = np.argwhere(category_modalities == modality).item()\n",
        "    return weights[idx].item()\n",
        "\n",
        "X_train['weight'] = X_train['AgeCategory'].apply(add_weight_column, args=(category_modalities, weights))\n",
        "X_test['weight'] = X_test['AgeCategory'].apply(add_weight_column, args=(category_modalities, weights))"
      ],
      "metadata": {
        "id": "4vjbuT3SBtku"
      },
      "execution_count": 174,
      "outputs": []
    },
    {
      "cell_type": "code",
      "source": [
        "# Re-compute the loss with the formula\n",
        "def compute_loss_with_new_weights(\n",
        "    df: pd.DataFrame,\n",
        ") -> float:\n",
        "    preds_unsigmoid = torch.tensor(df['pred_unsigmoid'].values).double()\n",
        "    labels = torch.tensor(df['label'].values).double()\n",
        "    weights_by_mod = torch.tensor(df['weight'].values).double()\n",
        "    return torch.log(1 + torch.exp(-labels * (preds_unsigmoid + weights_by_mod))).sum() / len(df)"
      ],
      "metadata": {
        "id": "beloRBT5T_g_"
      },
      "execution_count": 199,
      "outputs": []
    },
    {
      "cell_type": "code",
      "source": [
        "new_loss_train = compute_loss_with_new_weights(X_train)\n",
        "new_loss_test = compute_loss_with_new_weights(X_test)\n",
        "new_loss_train, new_loss_test"
      ],
      "metadata": {
        "colab": {
          "base_uri": "https://localhost:8080/"
        },
        "id": "JohFrC8AEVOV",
        "outputId": "0b112b23-1519-434d-a5a3-c132209dd16f"
      },
      "execution_count": 200,
      "outputs": [
        {
          "output_type": "execute_result",
          "data": {
            "text/plain": [
              "(tensor(0.2302, dtype=torch.float64), tensor(0.2375, dtype=torch.float64))"
            ]
          },
          "metadata": {},
          "execution_count": 200
        }
      ]
    },
    {
      "cell_type": "code",
      "source": [
        "allfeatures_train_loss, allfeatures_test_loss"
      ],
      "metadata": {
        "colab": {
          "base_uri": "https://localhost:8080/"
        },
        "id": "GzHe9tT2J4PM",
        "outputId": "171fea21-bacf-49ce-f348-f73149650ba2"
      },
      "execution_count": 209,
      "outputs": [
        {
          "output_type": "execute_result",
          "data": {
            "text/plain": [
              "(tensor(0.2254, dtype=torch.float64), tensor(0.2325, dtype=torch.float64))"
            ]
          },
          "metadata": {},
          "execution_count": 209
        }
      ]
    },
    {
      "cell_type": "code",
      "source": [
        "# SUMMARY\n",
        "print(\"TRAIN\")\n",
        "print(\"Initial Loss:           {}\".format(initial_train_loss))\n",
        "print(\"Loss with new feature:  {}\".format(allfeatures_train_loss))\n",
        "print(\"New Loss with Chapelle: {}\".format(new_loss_train))\n",
        "print()\n",
        "print(\"TEST\")\n",
        "print(\"Initial Loss:           {}\".format(initial_test_loss))\n",
        "print(\"Loss with new feature:  {}\".format(allfeatures_test_loss))\n",
        "print(\"New Loss with Chapelle: {}\".format(new_loss_test))"
      ],
      "metadata": {
        "colab": {
          "base_uri": "https://localhost:8080/"
        },
        "id": "ptLNDJOpGCqH",
        "outputId": "b8782d61-2953-4568-9c20-ea2732491612"
      },
      "execution_count": 212,
      "outputs": [
        {
          "output_type": "stream",
          "name": "stdout",
          "text": [
            "TRAIN\n",
            "Initial Loss:           0.23981577780208171\n",
            "Loss with new feature:  0.22541595560126987\n",
            "New Loss with Chapelle: 0.2302211276672206\n",
            "\n",
            "TEST\n",
            "Initial Loss:           0.24735161529341648\n",
            "Loss with new feature:  0.2324779820886973\n",
            "New Loss with Chapelle: 0.23752499006846295\n"
          ]
        }
      ]
    },
    {
      "cell_type": "code",
      "source": [
        "loss_improvement_with_training = 100 * (allfeatures_test_loss - initial_test_loss) / initial_test_loss\n",
        "loss_improvement_with_chapelle = 100 * (new_loss_test - initial_test_loss) / initial_test_loss\n",
        "\n",
        "print(\"Loss improvement with training: {}%\".format(loss_improvement_with_training))\n",
        "print(\"Loss improvement with chapelle: {}%\".format(loss_improvement_with_chapelle))"
      ],
      "metadata": {
        "colab": {
          "base_uri": "https://localhost:8080/"
        },
        "id": "QcaSjigwNg7j",
        "outputId": "ece096be-0d64-435f-acc6-9c2b97ff4f86"
      },
      "execution_count": 214,
      "outputs": [
        {
          "output_type": "stream",
          "name": "stdout",
          "text": [
            "Loss improvement with training: -6.013153860780573%\n",
            "Loss improvement with chapelle: -3.972735416866744%\n"
          ]
        }
      ]
    },
    {
      "cell_type": "code",
      "source": [
        ""
      ],
      "metadata": {
        "id": "TDBcva1EAc3T"
      },
      "execution_count": null,
      "outputs": []
    }
  ]
}